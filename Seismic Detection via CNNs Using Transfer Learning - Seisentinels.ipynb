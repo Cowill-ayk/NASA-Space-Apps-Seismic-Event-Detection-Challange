{
 "cells": [
  {
   "cell_type": "code",
   "execution_count": 20,
   "id": "b08705b6",
   "metadata": {},
   "outputs": [
    {
     "name": "stdout",
     "output_type": "stream",
     "text": [
      "Requirement already satisfied: matplotlib in c:\\users\\alp\\anaconda3\\lib\\site-packages (3.7.2)\n",
      "Requirement already satisfied: contourpy>=1.0.1 in c:\\users\\alp\\anaconda3\\lib\\site-packages (from matplotlib) (1.0.5)\n",
      "Requirement already satisfied: cycler>=0.10 in c:\\users\\alp\\anaconda3\\lib\\site-packages (from matplotlib) (0.11.0)\n",
      "Requirement already satisfied: fonttools>=4.22.0 in c:\\users\\alp\\anaconda3\\lib\\site-packages (from matplotlib) (4.25.0)\n",
      "Requirement already satisfied: kiwisolver>=1.0.1 in c:\\users\\alp\\anaconda3\\lib\\site-packages (from matplotlib) (1.4.4)\n",
      "Requirement already satisfied: numpy>=1.20 in c:\\users\\alp\\anaconda3\\lib\\site-packages (from matplotlib) (1.24.3)\n",
      "Requirement already satisfied: packaging>=20.0 in c:\\users\\alp\\anaconda3\\lib\\site-packages (from matplotlib) (23.1)\n",
      "Requirement already satisfied: pillow>=6.2.0 in c:\\users\\alp\\anaconda3\\lib\\site-packages (from matplotlib) (9.4.0)\n",
      "Requirement already satisfied: pyparsing<3.1,>=2.3.1 in c:\\users\\alp\\anaconda3\\lib\\site-packages (from matplotlib) (3.0.9)\n",
      "Requirement already satisfied: python-dateutil>=2.7 in c:\\users\\alp\\anaconda3\\lib\\site-packages (from matplotlib) (2.8.2)\n",
      "Requirement already satisfied: six>=1.5 in c:\\users\\alp\\anaconda3\\lib\\site-packages (from python-dateutil>=2.7->matplotlib) (1.16.0)\n",
      "Requirement already satisfied: pycore in c:\\users\\alp\\anaconda3\\lib\\site-packages (17.4.17)\n",
      "Requirement already satisfied: requests in c:\\users\\alp\\anaconda3\\lib\\site-packages (from pycore) (2.31.0)\n",
      "Requirement already satisfied: pytest in c:\\users\\alp\\anaconda3\\lib\\site-packages (from pycore) (7.4.0)\n",
      "Requirement already satisfied: pytest-cov in c:\\users\\alp\\anaconda3\\lib\\site-packages (from pycore) (5.0.0)\n",
      "Requirement already satisfied: iniconfig in c:\\users\\alp\\anaconda3\\lib\\site-packages (from pytest->pycore) (1.1.1)\n",
      "Requirement already satisfied: packaging in c:\\users\\alp\\anaconda3\\lib\\site-packages (from pytest->pycore) (23.1)\n",
      "Requirement already satisfied: pluggy<2.0,>=0.12 in c:\\users\\alp\\anaconda3\\lib\\site-packages (from pytest->pycore) (1.0.0)\n",
      "Requirement already satisfied: colorama in c:\\users\\alp\\anaconda3\\lib\\site-packages (from pytest->pycore) (0.4.6)\n",
      "Requirement already satisfied: coverage[toml]>=5.2.1 in c:\\users\\alp\\anaconda3\\lib\\site-packages (from pytest-cov->pycore) (7.6.1)\n",
      "Requirement already satisfied: charset-normalizer<4,>=2 in c:\\users\\alp\\anaconda3\\lib\\site-packages (from requests->pycore) (2.0.4)\n",
      "Requirement already satisfied: idna<4,>=2.5 in c:\\users\\alp\\anaconda3\\lib\\site-packages (from requests->pycore) (3.4)\n",
      "Requirement already satisfied: urllib3<3,>=1.21.1 in c:\\users\\alp\\anaconda3\\lib\\site-packages (from requests->pycore) (1.26.16)\n",
      "Requirement already satisfied: certifi>=2017.4.17 in c:\\users\\alp\\anaconda3\\lib\\site-packages (from requests->pycore) (2023.7.22)\n",
      "Requirement already satisfied: onnx in c:\\users\\alp\\anaconda3\\lib\\site-packages (1.17.0)\n",
      "Requirement already satisfied: numpy>=1.20 in c:\\users\\alp\\anaconda3\\lib\\site-packages (from onnx) (1.24.3)\n",
      "Requirement already satisfied: protobuf>=3.20.2 in c:\\users\\alp\\anaconda3\\lib\\site-packages (from onnx) (4.25.1)\n"
     ]
    }
   ],
   "source": [
    "!pip install matplotlib\n",
    "!pip install pycore\n",
    "!pip install onnx"
   ]
  },
  {
   "cell_type": "code",
   "execution_count": 17,
   "id": "8eee067f",
   "metadata": {},
   "outputs": [],
   "source": [
    "!pyweed"
   ]
  },
  {
   "cell_type": "markdown",
   "id": "92dcc95b",
   "metadata": {},
   "source": [
    "# Earth Tuning"
   ]
  },
  {
   "cell_type": "code",
   "execution_count": 21,
   "id": "ac95c9b3",
   "metadata": {},
   "outputs": [
    {
     "name": "stdout",
     "output_type": "stream",
     "text": [
      "Batch shape: torch.Size([32, 3, 224, 224])\n",
      "Labels shape: torch.Size([32])\n"
     ]
    }
   ],
   "source": [
    "import os\n",
    "import torch\n",
    "from torch.utils.data import Dataset, DataLoader\n",
    "from torchvision import transforms\n",
    "from PIL import Image\n",
    "\n",
    "class CustomImageDataset(Dataset):\n",
    "    def __init__(self, folder_path):\n",
    "        self.folder_path = folder_path\n",
    "        self.image_files = [f for f in os.listdir(folder_path) if f.endswith('.png')]\n",
    "        \n",
    "        # Define the transformation pipeline\n",
    "        self.transform = transforms.Compose([\n",
    "            transforms.ToTensor(),\n",
    "            transforms.Normalize(mean=[0.485, 0.456, 0.406], \n",
    "                                std=[0.229, 0.224, 0.225])\n",
    "        ])\n",
    "\n",
    "    def __len__(self):\n",
    "        return len(self.image_files)\n",
    "\n",
    "    def __getitem__(self, idx):\n",
    "        img_name = self.image_files[idx]\n",
    "        img_path = os.path.join(self.folder_path, img_name)\n",
    "        \n",
    "        # Load image\n",
    "        image = Image.open(img_path).convert('RGB')\n",
    "        \n",
    "        # Apply transformations\n",
    "        image = self.transform(image)\n",
    "        \n",
    "        # Assign label based on filename\n",
    "        label = 1 if 'crop_6' in img_name else 0\n",
    "        \n",
    "        return image, label\n",
    "\n",
    "# Usage example:\n",
    "def get_data_loader(folder_path, batch_size=32, shuffle=True):\n",
    "    dataset = CustomImageDataset(folder_path)\n",
    "    return DataLoader(dataset, batch_size=batch_size, shuffle=shuffle)\n",
    "\n",
    "# Example of how to use:\n",
    "if __name__ == \"__main__\":\n",
    "    # Replace with your actual folder path\n",
    "    folder_path = \"earth_augment\"\n",
    "    \n",
    "    # Create data loader\n",
    "    data_loader = get_data_loader(folder_path)\n",
    "    \n",
    "    # Example iteration over the data loader\n",
    "    for batch_images, batch_labels in data_loader:\n",
    "        print(f\"Batch shape: {batch_images.shape}\")\n",
    "        print(f\"Labels shape: {batch_labels.shape}\")\n",
    "        break  # Just print the first batch and break"
   ]
  },
  {
   "cell_type": "code",
   "execution_count": 3,
   "id": "5dba1a8f",
   "metadata": {},
   "outputs": [],
   "source": [
    "import torch\n",
    "import torch.nn as nn\n",
    "import torch.nn.functional as F\n",
    "\n",
    "class CustomCNN(nn.Module):\n",
    "    def __init__(self, dropout_rate=0.5):\n",
    "        super(CustomCNN, self).__init__()\n",
    "        \n",
    "        # First convolution block\n",
    "        self.conv1 = nn.Conv2d(in_channels=3, out_channels=32, kernel_size=5, stride=1, padding=2)\n",
    "        self.pool1 = nn.MaxPool2d(kernel_size=2, stride=2)\n",
    "        \n",
    "        # Second convolution block\n",
    "        self.conv2 = nn.Conv2d(in_channels=32, out_channels=64, kernel_size=5, stride=1, padding=2)\n",
    "        self.pool2 = nn.MaxPool2d(kernel_size=2, stride=2)\n",
    "        \n",
    "        # Third convolution block\n",
    "        self.conv3 = nn.Conv2d(in_channels=64, out_channels=64, kernel_size=5, stride=1, padding=2)\n",
    "        self.pool3 = nn.MaxPool2d(kernel_size=2, stride=2)\n",
    "        \n",
    "        # Dropout\n",
    "        self.dropout = nn.Dropout(dropout_rate)\n",
    "        \n",
    "        # Fully connected layer\n",
    "        # Calculate input features for FC layer\n",
    "        # After three 2x2 max pools: 224 -> 112 -> 56 -> 28\n",
    "        self.fc = nn.Linear(28 * 56 * 128 * 64, 2)  # 2 for binary classification\n",
    "\n",
    "    def forward(self, x):\n",
    "        # First block\n",
    "        x = self.conv1(x)       # 224x224x3 -> 224x224x32\n",
    "        x = F.relu(x)\n",
    "        x = self.pool1(x)       # 224x224x32 -> 112x112x32\n",
    "        \n",
    "        # Second block\n",
    "        x = self.conv2(x)       # 112x112x32 -> 112x112x64\n",
    "        x = F.relu(x)\n",
    "        x = self.pool2(x)       # 112x112x64 -> 56x56x64\n",
    "        \n",
    "        # Flatten\n",
    "        x = x.view(x.size(0), -1)  # 56x56x64 -> 200704\n",
    "        \n",
    "        # Dropout\n",
    "        x = self.dropout(x)\n",
    "        \n",
    "        # Fully connected layer\n",
    "        x = self.fc(x)          # 200704 -> 2\n",
    "        \n",
    "        return x\n",
    "\n",
    "# Training function\n",
    "def train_model(model, train_loader, criterion, optimizer, device, num_epochs=10):\n",
    "    model.train()\n",
    "    for epoch in range(num_epochs):\n",
    "        running_loss = 0.0\n",
    "        correct = 0\n",
    "        total = 0\n",
    "        \n",
    "        for i, (images, labels) in enumerate(train_loader):\n",
    "            images, labels = images.to(device), labels.to(device)\n",
    "            \n",
    "            optimizer.zero_grad()\n",
    "            outputs = model(images)\n",
    "            loss = criterion(outputs, labels)\n",
    "            loss.backward()\n",
    "            optimizer.step()\n",
    "            \n",
    "            running_loss += loss.item()\n",
    "            \n",
    "            _, predicted = torch.max(outputs.data, 1)\n",
    "            total += labels.size(0)\n",
    "            correct += (predicted == labels).sum().item()\n",
    "            \n",
    "            if (i + 1) % 100 == 0:\n",
    "                print(f'Epoch [{epoch+1}/{num_epochs}], Step [{i+1}/{len(train_loader)}], '\n",
    "                      f'Loss: {running_loss/100:.4f}, '\n",
    "                      f'Accuracy: {100 * correct / total:.2f}%')\n",
    "                running_loss = 0.0\n",
    "\n",
    "# Example usage\n",
    "def main():\n",
    "    # Assuming you've already created your data loader as per the previous example\n",
    "    device = torch.device(\"cuda\" if torch.cuda.is_available() else \"cpu\")\n",
    "    \n",
    "    # Create model and move to device\n",
    "    model = CustomCNN().to(device)\n",
    "    \n",
    "    # Define loss function and optimizer\n",
    "    criterion = nn.CrossEntropyLoss()\n",
    "    optimizer = torch.optim.Adam(model.parameters(), lr=0.001)\n",
    "    \n",
    "    # Assuming you have created your data_loader\n",
    "    # train_loader = get_data_loader(\"/path/to/your/image/folder\")\n",
    "    \n",
    "    # Train the model\n",
    "    # train_model(model, train_loader, criterion, optimizer, device)\n",
    "\n",
    "if __name__ == \"__main__\":\n",
    "    main()"
   ]
  },
  {
   "cell_type": "code",
   "execution_count": 22,
   "id": "feea4809",
   "metadata": {},
   "outputs": [],
   "source": [
    "import torch\n",
    "import torch.nn as nn\n",
    "from torch.utils.data import DataLoader, random_split\n",
    "import numpy as np\n",
    "from tqdm import tqdm\n",
    "import matplotlib.pyplot as plt\n",
    "from sklearn.metrics import confusion_matrix, classification_report\n",
    "import seaborn as sns\n",
    "\n",
    "def train_model(model, train_dataset, batch_size=32, num_epochs=10, learning_rate=0.001, \n",
    "                val_split=0.2, patience=5, device=None):\n",
    "    if device is None:\n",
    "        device = torch.device(\"cuda\" if torch.cuda.is_available() else \"cpu\")\n",
    "    print(f\"Using device: {device}\")\n",
    "\n",
    "    # Split dataset into train and validation\n",
    "    val_size = int(len(train_dataset) * val_split)\n",
    "    train_size = len(train_dataset) - val_size\n",
    "    train_subset, val_subset = random_split(train_dataset, [train_size, val_size])\n",
    "    \n",
    "    train_loader = DataLoader(train_subset, batch_size=batch_size, shuffle=True)\n",
    "    val_loader = DataLoader(val_subset, batch_size=batch_size)\n",
    "    \n",
    "    # Loss function and optimizer\n",
    "    criterion = nn.CrossEntropyLoss()\n",
    "    optimizer = torch.optim.Adam(model.parameters(), lr=learning_rate)\n",
    "    \n",
    "    # Learning rate scheduler\n",
    "    scheduler = torch.optim.lr_scheduler.ReduceLROnPlateau(optimizer, mode='max', \n",
    "                                                          factor=0.1, patience=3, verbose=True)\n",
    "    \n",
    "    # Training history\n",
    "    history = {\n",
    "        'train_loss': [], 'val_loss': [],\n",
    "        'train_acc': [], 'val_acc': []\n",
    "    }\n",
    "    \n",
    "    best_val_acc = 0\n",
    "    epochs_without_improvement = 0\n",
    "    \n",
    "    model = model.to(device)\n",
    "    \n",
    "    for epoch in range(num_epochs):\n",
    "        print(f\"\\nEpoch {epoch+1}/{num_epochs}\")\n",
    "        \n",
    "        # Training phase\n",
    "        model.train()\n",
    "        train_loss = 0\n",
    "        train_correct = 0\n",
    "        train_total = 0\n",
    "        \n",
    "        train_bar = tqdm(train_loader, desc=\"Training\")\n",
    "        for batch_idx, (images, labels) in enumerate(train_bar):\n",
    "            images, labels = images.to(device), labels.to(device)\n",
    "            \n",
    "            optimizer.zero_grad()\n",
    "            outputs = model(images)\n",
    "            loss = criterion(outputs, labels)\n",
    "            loss.backward()\n",
    "            optimizer.step()\n",
    "            \n",
    "            train_loss += loss.item()\n",
    "            _, predicted = outputs.max(1)\n",
    "            train_total += labels.size(0)\n",
    "            train_correct += predicted.eq(labels).sum().item()\n",
    "            \n",
    "            # Update progress bar\n",
    "            train_bar.set_postfix({\n",
    "                'loss': train_loss/(batch_idx+1), \n",
    "                'acc': 100.*train_correct/train_total\n",
    "            })\n",
    "        \n",
    "        avg_train_loss = train_loss / len(train_loader)\n",
    "        train_accuracy = 100. * train_correct / train_total\n",
    "        \n",
    "        # Validation phase\n",
    "        model.eval()\n",
    "        val_loss = 0\n",
    "        val_correct = 0\n",
    "        val_total = 0\n",
    "        \n",
    "        with torch.no_grad():\n",
    "            val_bar = tqdm(val_loader, desc=\"Validation\")\n",
    "            for batch_idx, (images, labels) in enumerate(val_bar):\n",
    "                images, labels = images.to(device), labels.to(device)\n",
    "                outputs = model(images)\n",
    "                loss = criterion(outputs, labels)\n",
    "                \n",
    "                val_loss += loss.item()\n",
    "                _, predicted = outputs.max(1)\n",
    "                val_total += labels.size(0)\n",
    "                val_correct += predicted.eq(labels).sum().item()\n",
    "                \n",
    "                val_bar.set_postfix({\n",
    "                    'loss': val_loss/(batch_idx+1), \n",
    "                    'acc': 100.*val_correct/val_total\n",
    "                })\n",
    "        \n",
    "        avg_val_loss = val_loss / len(val_loader)\n",
    "        val_accuracy = 100. * val_correct / val_total\n",
    "        \n",
    "        # Update learning rate scheduler\n",
    "        scheduler.step(val_accuracy)\n",
    "        \n",
    "        # Save history\n",
    "        history['train_loss'].append(avg_train_loss)\n",
    "        history['val_loss'].append(avg_val_loss)\n",
    "        history['train_acc'].append(train_accuracy)\n",
    "        history['val_acc'].append(val_accuracy)\n",
    "        \n",
    "        print(f\"\\nTrain Loss: {avg_train_loss:.4f}, Train Acc: {train_accuracy:.2f}%\")\n",
    "        print(f\"Val Loss: {avg_val_loss:.4f}, Val Acc: {val_accuracy:.2f}%\")\n",
    "        \n",
    "        # Save best model and early stopping\n",
    "        if val_accuracy > best_val_acc:\n",
    "            best_val_acc = val_accuracy\n",
    "            torch.save(model.state_dict(), 'best_model.pth')\n",
    "            epochs_without_improvement = 0\n",
    "        else:\n",
    "            epochs_without_improvement += 1\n",
    "        \n",
    "        if epochs_without_improvement == patience:\n",
    "            print(f\"\\nEarly stopping triggered after {epoch+1} epochs\")\n",
    "            break\n",
    "    \n",
    "    return model, history\n",
    "\n",
    "def plot_training_history(history):\n",
    "    fig, (ax1, ax2) = plt.subplots(1, 2, figsize=(15, 5))\n",
    "    \n",
    "    # Plot loss\n",
    "    ax1.plot(history['train_loss'], label='Train Loss')\n",
    "    ax1.plot(history['val_loss'], label='Validation Loss')\n",
    "    ax1.set_title('Model Loss')\n",
    "    ax1.set_xlabel('Epoch')\n",
    "    ax1.set_ylabel('Loss')\n",
    "    ax1.legend()\n",
    "    \n",
    "    # Plot accuracy\n",
    "    ax2.plot(history['train_acc'], label='Train Accuracy')\n",
    "    ax2.plot(history['val_acc'], label='Validation Accuracy')\n",
    "    ax2.set_title('Model Accuracy')\n",
    "    ax2.set_xlabel('Epoch')\n",
    "    ax2.set_ylabel('Accuracy')\n",
    "    ax2.legend()\n",
    "    \n",
    "    plt.tight_layout()\n",
    "    plt.show()\n",
    "\n",
    "def evaluate_model(model, test_loader, device):\n",
    "    model.eval()\n",
    "    all_preds = []\n",
    "    all_labels = []\n",
    "    \n",
    "    with torch.no_grad():\n",
    "        for images, labels in tqdm(test_loader, desc=\"Evaluating\"):\n",
    "            images, labels = images.to(device), labels.to(device)\n",
    "            outputs = model(images)\n",
    "            _, predicted = torch.max(outputs, 1)\n",
    "            \n",
    "            all_preds.extend(predicted.cpu().numpy())\n",
    "            all_labels.extend(labels.cpu().numpy())\n",
    "    \n",
    "    # Calculate confusion matrix\n",
    "    cm = confusion_matrix(all_labels, all_preds)\n",
    "    \n",
    "    # Plot confusion matrix\n",
    "    plt.figure(figsize=(8, 6))\n",
    "    sns.heatmap(cm, annot=True, fmt='d', cmap='Blues')\n",
    "    plt.title('Confusion Matrix')\n",
    "    plt.ylabel('True Label')\n",
    "    plt.xlabel('Predicted Label')\n",
    "    plt.show()\n",
    "    \n",
    "    # Print classification report\n",
    "    print(\"\\nClassification Report:\")\n",
    "    print(classification_report(all_labels, all_preds, target_names=['Non-crop_6', 'crop_6']))\n",
    "\n",
    "# Example usage\n",
    "def main():\n",
    "    # Assuming you have your dataset and model defined\n",
    "    # dataset = CustomImageDataset(\"/path/to/your/image/folder\")\n",
    "    # model = CustomCNN()\n",
    "    \n",
    "    # Example hyperparameters\n",
    "    hyperparameters = {\n",
    "        'batch_size': 32,\n",
    "        'num_epochs': 20,\n",
    "        'learning_rate': 0.001,\n",
    "        'val_split': 0.2,\n",
    "        'patience': 5\n",
    "    }\n",
    "    \n",
    "    # Train the model\n",
    "    # model, history = train_model(model, dataset, **hyperparameters)\n",
    "    \n",
    "    # Plot training history\n",
    "    # plot_training_history(history)\n",
    "    \n",
    "    # Create a test loader and evaluate the model\n",
    "    # test_loader = DataLoader(test_dataset, batch_size=hyperparameters['batch_size'])\n",
    "    # evaluate_model(model, test_loader, device)\n",
    "\n",
    "if __name__ == \"__main__\":\n",
    "    main()"
   ]
  },
  {
   "cell_type": "code",
   "execution_count": 23,
   "id": "d51181ef",
   "metadata": {
    "scrolled": true
   },
   "outputs": [
    {
     "name": "stderr",
     "output_type": "stream",
     "text": [
      "C:\\Users\\Alp\\anaconda3\\Lib\\site-packages\\torch\\optim\\lr_scheduler.py:60: UserWarning: The verbose parameter is deprecated. Please use get_last_lr() to access the learning rate.\n",
      "  warnings.warn(\n"
     ]
    },
    {
     "name": "stdout",
     "output_type": "stream",
     "text": [
      "Using device: cpu\n",
      "\n",
      "Epoch 1/20\n"
     ]
    },
    {
     "name": "stderr",
     "output_type": "stream",
     "text": [
      "Training: 100%|████████████████████████████████████████████████| 158/158 [02:17<00:00,  1.15it/s, loss=0.556, acc=95.7]\n",
      "Validation: 100%|████████████████████████████████████████████████| 40/40 [00:15<00:00,  2.55it/s, loss=0.126, acc=98.3]\n"
     ]
    },
    {
     "name": "stdout",
     "output_type": "stream",
     "text": [
      "\n",
      "Train Loss: 0.5562, Train Acc: 95.69%\n",
      "Val Loss: 0.1256, Val Acc: 98.33%\n",
      "\n",
      "Epoch 2/20\n"
     ]
    },
    {
     "name": "stderr",
     "output_type": "stream",
     "text": [
      "Training: 100%|███████████████████████████████████████████████| 158/158 [02:17<00:00,  1.15it/s, loss=0.0703, acc=99.1]\n",
      "Validation: 100%|███████████████████████████████████████████████| 40/40 [00:14<00:00,  2.81it/s, loss=0.0395, acc=99.1]\n"
     ]
    },
    {
     "name": "stdout",
     "output_type": "stream",
     "text": [
      "\n",
      "Train Loss: 0.0703, Train Acc: 99.15%\n",
      "Val Loss: 0.0395, Val Acc: 99.13%\n",
      "\n",
      "Epoch 3/20\n"
     ]
    },
    {
     "name": "stderr",
     "output_type": "stream",
     "text": [
      "Training: 100%|███████████████████████████████████████████████| 158/158 [02:20<00:00,  1.13it/s, loss=0.0448, acc=99.3]\n",
      "Validation: 100%|███████████████████████████████████████████████| 40/40 [00:14<00:00,  2.72it/s, loss=0.0436, acc=98.8]\n"
     ]
    },
    {
     "name": "stdout",
     "output_type": "stream",
     "text": [
      "\n",
      "Train Loss: 0.0448, Train Acc: 99.27%\n",
      "Val Loss: 0.0436, Val Acc: 98.81%\n",
      "\n",
      "Epoch 4/20\n"
     ]
    },
    {
     "name": "stderr",
     "output_type": "stream",
     "text": [
      "Training: 100%|███████████████████████████████████████████████| 158/158 [02:10<00:00,  1.21it/s, loss=0.0358, acc=99.3]\n",
      "Validation: 100%|███████████████████████████████████████████████| 40/40 [00:14<00:00,  2.73it/s, loss=0.0309, acc=99.3]\n"
     ]
    },
    {
     "name": "stdout",
     "output_type": "stream",
     "text": [
      "\n",
      "Train Loss: 0.0358, Train Acc: 99.29%\n",
      "Val Loss: 0.0309, Val Acc: 99.29%\n",
      "\n",
      "Epoch 5/20\n"
     ]
    },
    {
     "name": "stderr",
     "output_type": "stream",
     "text": [
      "Training: 100%|███████████████████████████████████████████████| 158/158 [02:26<00:00,  1.08it/s, loss=0.0247, acc=99.4]\n",
      "Validation: 100%|████████████████████████████████████████████████| 40/40 [00:16<00:00,  2.49it/s, loss=0.029, acc=99.4]\n"
     ]
    },
    {
     "name": "stdout",
     "output_type": "stream",
     "text": [
      "\n",
      "Train Loss: 0.0247, Train Acc: 99.38%\n",
      "Val Loss: 0.0290, Val Acc: 99.44%\n",
      "\n",
      "Epoch 6/20\n"
     ]
    },
    {
     "name": "stderr",
     "output_type": "stream",
     "text": [
      "Training: 100%|████████████████████████████████████████████████| 158/158 [02:40<00:00,  1.01s/it, loss=0.025, acc=99.4]\n",
      "Validation: 100%|███████████████████████████████████████████████| 40/40 [00:15<00:00,  2.51it/s, loss=0.0356, acc=99.1]\n"
     ]
    },
    {
     "name": "stdout",
     "output_type": "stream",
     "text": [
      "\n",
      "Train Loss: 0.0250, Train Acc: 99.42%\n",
      "Val Loss: 0.0356, Val Acc: 99.13%\n",
      "\n",
      "Epoch 7/20\n"
     ]
    },
    {
     "name": "stderr",
     "output_type": "stream",
     "text": [
      "Training: 100%|███████████████████████████████████████████████| 158/158 [02:35<00:00,  1.02it/s, loss=0.0395, acc=99.4]\n",
      "Validation: 100%|████████████████████████████████████████████████| 40/40 [00:15<00:00,  2.58it/s, loss=0.109, acc=98.7]\n"
     ]
    },
    {
     "name": "stdout",
     "output_type": "stream",
     "text": [
      "\n",
      "Train Loss: 0.0395, Train Acc: 99.37%\n",
      "Val Loss: 0.1090, Val Acc: 98.65%\n",
      "\n",
      "Epoch 8/20\n"
     ]
    },
    {
     "name": "stderr",
     "output_type": "stream",
     "text": [
      "Training: 100%|█████████████████████████████████████████████████| 158/158 [02:29<00:00,  1.06it/s, loss=0.0788, acc=99]\n",
      "Validation: 100%|█████████████████████████████████████████████████| 40/40 [00:15<00:00,  2.53it/s, loss=0.0937, acc=99]\n"
     ]
    },
    {
     "name": "stdout",
     "output_type": "stream",
     "text": [
      "\n",
      "Train Loss: 0.0788, Train Acc: 99.01%\n",
      "Val Loss: 0.0937, Val Acc: 98.97%\n",
      "\n",
      "Epoch 9/20\n"
     ]
    },
    {
     "name": "stderr",
     "output_type": "stream",
     "text": [
      "Training: 100%|█████████████████████████████████████████████████| 158/158 [02:24<00:00,  1.09it/s, loss=0.0627, acc=99]\n",
      "Validation: 100%|███████████████████████████████████████████████| 40/40 [00:15<00:00,  2.54it/s, loss=0.0469, acc=98.8]\n"
     ]
    },
    {
     "name": "stdout",
     "output_type": "stream",
     "text": [
      "\n",
      "Train Loss: 0.0627, Train Acc: 99.01%\n",
      "Val Loss: 0.0469, Val Acc: 98.81%\n",
      "\n",
      "Epoch 10/20\n"
     ]
    },
    {
     "name": "stderr",
     "output_type": "stream",
     "text": [
      "Training: 100%|███████████████████████████████████████████████| 158/158 [02:22<00:00,  1.11it/s, loss=0.0203, acc=99.5]\n",
      "Validation: 100%|███████████████████████████████████████████████| 40/40 [00:15<00:00,  2.57it/s, loss=0.0299, acc=99.3]\n"
     ]
    },
    {
     "name": "stdout",
     "output_type": "stream",
     "text": [
      "\n",
      "Train Loss: 0.0203, Train Acc: 99.48%\n",
      "Val Loss: 0.0299, Val Acc: 99.29%\n",
      "\n",
      "Early stopping triggered after 10 epochs\n"
     ]
    },
    {
     "data": {
      "image/png": "[encoded data removed]",
      "text/plain": [
       "<Figure size 1500x500 with 2 Axes>"
      ]
     },
     "metadata": {},
     "output_type": "display_data"
    },
    {
     "name": "stderr",
     "output_type": "stream",
     "text": [
      "Evaluating: 100%|██████████████████████████████████████████████████████████████████████| 20/20 [00:07<00:00,  2.57it/s]\n"
     ]
    },
    {
     "data": {
      "image/png": "[encoded data removed]",
      "text/plain": [
       "<Figure size 800x600 with 2 Axes>"
      ]
     },
     "metadata": {},
     "output_type": "display_data"
    },
    {
     "name": "stdout",
     "output_type": "stream",
     "text": [
      "\n",
      "Classification Report:\n",
      "              precision    recall  f1-score   support\n",
      "\n",
      "  Non-crop_6       0.99      1.00      1.00       567\n",
      "      crop_6       1.00      0.94      0.97        63\n",
      "\n",
      "    accuracy                           0.99       630\n",
      "   macro avg       1.00      0.97      0.98       630\n",
      "weighted avg       0.99      0.99      0.99       630\n",
      "\n"
     ]
    }
   ],
   "source": [
    "import torch\n",
    "import torch.nn as nn\n",
    "from torch.utils.data import DataLoader, random_split\n",
    "import numpy as np\n",
    "from tqdm import tqdm\n",
    "import matplotlib.pyplot as plt\n",
    "from sklearn.metrics import confusion_matrix, classification_report\n",
    "import seaborn as sns\n",
    "\n",
    "# Assuming you have the CustomCNN and CustomImageDataset classes defined as before\n",
    "\n",
    "def main():\n",
    "    # Initialize dataset\n",
    "    dataset = CustomImageDataset(\"earth_augment/\")  # Replace with your actual path\n",
    "    \n",
    "    # Initialize model\n",
    "    model = CustomCNN()\n",
    "    \n",
    "    # Example hyperparameters\n",
    "    hyperparameters = {\n",
    "        'batch_size': 32,\n",
    "        'num_epochs': 20,\n",
    "        'learning_rate': 0.001,\n",
    "        'val_split': 0.2,\n",
    "        'patience': 5\n",
    "    }\n",
    "    \n",
    "    # Train the model\n",
    "    trained_model, history = train_model(model, dataset, **hyperparameters)\n",
    "    \n",
    "    # Plot training history\n",
    "    plot_training_history(history)\n",
    "    \n",
    "    # Create a small test set from the original dataset for demonstration\n",
    "    # In a real scenario, you'd have a separate test set\n",
    "    test_size = int(len(dataset) * 0.1)\n",
    "    _, test_dataset = random_split(dataset, [len(dataset) - test_size, test_size])\n",
    "    \n",
    "    test_loader = DataLoader(test_dataset, batch_size=hyperparameters['batch_size'])\n",
    "    device = torch.device(\"cuda\" if torch.cuda.is_available() else \"cpu\")\n",
    "    torch.save(model.state_dict(), 'earth_tuned.pth')\n",
    "    # Evaluate the model\n",
    "    evaluate_model(trained_model, test_loader, device)\n",
    "\n",
    "if __name__ == \"__main__\":\n",
    "    main()"
   ]
  },
  {
   "cell_type": "code",
   "execution_count": 11,
   "id": "94ee297c",
   "metadata": {},
   "outputs": [
    {
     "ename": "ImportError",
     "evalue": "DLL load failed while importing onnx_cpp2py_export: A dynamic link library (DLL) initialization routine failed.",
     "output_type": "error",
     "traceback": [
      "\u001b[1;31m---------------------------------------------------------------------------\u001b[0m",
      "\u001b[1;31mImportError\u001b[0m                               Traceback (most recent call last)",
      "Cell \u001b[1;32mIn[11], line 1\u001b[0m\n\u001b[1;32m----> 1\u001b[0m \u001b[38;5;28;01mimport\u001b[39;00m \u001b[38;5;21;01monnx\u001b[39;00m\n\u001b[0;32m      2\u001b[0m \u001b[38;5;66;03m# 2. Initialize the model\u001b[39;00m\n\u001b[0;32m      3\u001b[0m model \u001b[38;5;241m=\u001b[39m CustomCNN()\n",
      "File \u001b[1;32m~\\anaconda3\\Lib\\site-packages\\onnx\\__init__.py:77\u001b[0m\n\u001b[0;32m     73\u001b[0m \u001b[38;5;28;01mfrom\u001b[39;00m \u001b[38;5;21;01mtyping\u001b[39;00m \u001b[38;5;28;01mimport\u001b[39;00m IO, Literal, Union\n\u001b[0;32m     76\u001b[0m \u001b[38;5;28;01mfrom\u001b[39;00m \u001b[38;5;21;01monnx\u001b[39;00m \u001b[38;5;28;01mimport\u001b[39;00m serialization\n\u001b[1;32m---> 77\u001b[0m \u001b[38;5;28;01mfrom\u001b[39;00m \u001b[38;5;21;01monnx\u001b[39;00m\u001b[38;5;21;01m.\u001b[39;00m\u001b[38;5;21;01monnx_cpp2py_export\u001b[39;00m \u001b[38;5;28;01mimport\u001b[39;00m ONNX_ML\n\u001b[0;32m     78\u001b[0m \u001b[38;5;28;01mfrom\u001b[39;00m \u001b[38;5;21;01monnx\u001b[39;00m\u001b[38;5;21;01m.\u001b[39;00m\u001b[38;5;21;01mexternal_data_helper\u001b[39;00m \u001b[38;5;28;01mimport\u001b[39;00m (\n\u001b[0;32m     79\u001b[0m     load_external_data_for_model,\n\u001b[0;32m     80\u001b[0m     write_external_data_tensors,\n\u001b[0;32m     81\u001b[0m     convert_model_to_external_data,\n\u001b[0;32m     82\u001b[0m )\n\u001b[0;32m     83\u001b[0m \u001b[38;5;28;01mfrom\u001b[39;00m \u001b[38;5;21;01monnx\u001b[39;00m\u001b[38;5;21;01m.\u001b[39;00m\u001b[38;5;21;01monnx_pb\u001b[39;00m \u001b[38;5;28;01mimport\u001b[39;00m (\n\u001b[0;32m     84\u001b[0m     AttributeProto,\n\u001b[0;32m     85\u001b[0m     EXPERIMENTAL,\n\u001b[1;32m   (...)\u001b[0m\n\u001b[0;32m    111\u001b[0m     Version,\n\u001b[0;32m    112\u001b[0m )\n",
      "\u001b[1;31mImportError\u001b[0m: DLL load failed while importing onnx_cpp2py_export: A dynamic link library (DLL) initialization routine failed."
     ]
    }
   ],
   "source": [
    "import onnx\n",
    "# 2. Initialize the model\n",
    "model = CustomCNN()\n",
    "\n",
    "# 3. Load the saved model state\n",
    "model.load_state_dict(torch.load(\"earth_tuned.pth\"))\n",
    "\n",
    "# 4. Set the model to evaluation mode (if you're doing inference)\n",
    "model.eval()\n",
    "\n",
    "# 5. Example: Running inference on a dummy input\n",
    "dummy_input = torch.randn(1, 3, 224, 224)  # Same shape as training data\n",
    "output = model(dummy_input)\n",
    "\n",
    "torch.onnx.export(\n",
    "    model,                # The trained model\n",
    "    dummy_input,          # Dummy input to trace the model\n",
    "    \"seismic_model.onnx\", # File name for saving ONNX model\n",
    "    input_names=[\"Spectrogram Image\"],  # Optional: input name\n",
    "    output_names=[\"Earthquake Prob.\"], # Optional: output name\n",
    "    #dynamic_axes={\"input\": {0: \"batch_size\"}, \"output\": {0: \"batch_size\"}},  # Optional: dynamic batch size\n",
    "    opset_version=11       # ONNX version (can be adjusted)\n",
    ")\n"
   ]
  },
  {
   "cell_type": "markdown",
   "id": "f03a3cf7",
   "metadata": {},
   "source": [
    "# Lunar Tuning"
   ]
  },
  {
   "cell_type": "code",
   "execution_count": 24,
   "id": "e2b2b072",
   "metadata": {},
   "outputs": [
    {
     "name": "stdout",
     "output_type": "stream",
     "text": [
      "Training Batch 0\n",
      "Image batch shape: torch.Size([32, 3, 224, 224])\n",
      "Labels: tensor([0, 0, 0, 1, 0, 0, 0, 0, 1, 0, 0, 0, 0, 0, 0, 0, 0, 1, 1, 0, 0, 0, 0, 0,\n",
      "        0, 0, 0, 0, 0, 0, 0, 0])\n",
      "Training Batch 1\n",
      "Image batch shape: torch.Size([32, 3, 224, 224])\n",
      "Labels: tensor([0, 0, 0, 0, 0, 0, 0, 0, 1, 0, 0, 0, 0, 0, 0, 0, 0, 0, 0, 0, 0, 0, 0, 1,\n",
      "        1, 0, 0, 0, 1, 0, 0, 0])\n",
      "Training Batch 2\n",
      "Image batch shape: torch.Size([32, 3, 224, 224])\n",
      "Labels: tensor([0, 1, 1, 0, 0, 1, 0, 0, 0, 0, 0, 0, 1, 0, 0, 0, 1, 0, 0, 0, 0, 0, 0, 0,\n",
      "        0, 0, 0, 0, 1, 0, 0, 0])\n",
      "Training Batch 3\n",
      "Image batch shape: torch.Size([32, 3, 224, 224])\n",
      "Labels: tensor([1, 0, 1, 0, 1, 0, 0, 0, 0, 0, 0, 0, 0, 1, 0, 0, 0, 0, 1, 0, 0, 0, 0, 0,\n",
      "        0, 0, 0, 0, 0, 0, 0, 0])\n",
      "Training Batch 4\n",
      "Image batch shape: torch.Size([32, 3, 224, 224])\n",
      "Labels: tensor([1, 0, 0, 1, 0, 0, 0, 1, 0, 0, 0, 0, 0, 0, 0, 0, 0, 0, 0, 0, 0, 0, 0, 0,\n",
      "        0, 0, 0, 0, 0, 0, 0, 0])\n",
      "Training Batch 5\n",
      "Image batch shape: torch.Size([32, 3, 224, 224])\n",
      "Labels: tensor([0, 0, 0, 0, 0, 0, 0, 0, 1, 0, 0, 0, 0, 0, 1, 0, 1, 0, 0, 0, 0, 0, 0, 0,\n",
      "        1, 0, 0, 0, 0, 1, 0, 0])\n",
      "Training Batch 6\n",
      "Image batch shape: torch.Size([32, 3, 224, 224])\n",
      "Labels: tensor([0, 0, 0, 0, 0, 0, 0, 0, 0, 1, 0, 0, 0, 0, 0, 1, 0, 0, 0, 0, 1, 0, 0, 0,\n",
      "        0, 0, 0, 0, 1, 0, 0, 0])\n",
      "Training Batch 7\n",
      "Image batch shape: torch.Size([32, 3, 224, 224])\n",
      "Labels: tensor([0, 0, 0, 0, 1, 0, 0, 0, 1, 0, 0, 0, 0, 0, 1, 0, 1, 0, 0, 0, 0, 0, 1, 0,\n",
      "        0, 0, 0, 0, 0, 0, 0, 0])\n",
      "Training Batch 8\n",
      "Image batch shape: torch.Size([32, 3, 224, 224])\n",
      "Labels: tensor([0, 0, 0, 0, 1, 0, 0, 0, 0, 0, 0, 0, 0, 0, 0, 0, 0, 0, 0, 0, 0, 0, 1, 0,\n",
      "        0, 0, 1, 0, 0, 1, 0, 0])\n",
      "Training Batch 9\n",
      "Image batch shape: torch.Size([32, 3, 224, 224])\n",
      "Labels: tensor([0, 0, 0, 0, 0, 0, 0, 0, 0, 0, 0, 0, 0, 0, 0, 0, 0, 0, 0, 0, 0, 0, 0, 0,\n",
      "        0, 0, 0, 1, 0, 0, 0, 0])\n",
      "Training Batch 10\n",
      "Image batch shape: torch.Size([32, 3, 224, 224])\n",
      "Labels: tensor([1, 0, 0, 0, 0, 0, 0, 0, 1, 0, 0, 0, 0, 0, 0, 0, 0, 0, 0, 0, 0, 0, 0, 0,\n",
      "        0, 0, 0, 0, 0, 0, 0, 0])\n",
      "Training Batch 11\n",
      "Image batch shape: torch.Size([32, 3, 224, 224])\n",
      "Labels: tensor([0, 0, 0, 0, 0, 0, 0, 0, 0, 0, 0, 0, 0, 0, 0, 0, 0, 0, 0, 0, 0, 0, 0, 0,\n",
      "        0, 0, 0, 0, 0, 0, 0, 0])\n",
      "Training Batch 12\n",
      "Image batch shape: torch.Size([32, 3, 224, 224])\n",
      "Labels: tensor([0, 0, 0, 0, 0, 0, 0, 0, 1, 0, 0, 0, 1, 0, 1, 0, 0, 0, 1, 0, 0, 0, 0, 0,\n",
      "        0, 0, 0, 0, 0, 0, 0, 0])\n",
      "Training Batch 13\n",
      "Image batch shape: torch.Size([32, 3, 224, 224])\n",
      "Labels: tensor([0, 0, 1, 1, 0, 0, 0, 0, 0, 0, 1, 0, 0, 0, 0, 0, 0, 0, 0, 0, 0, 0, 0, 0,\n",
      "        0, 0, 0, 0, 0, 0, 0, 0])\n",
      "Training Batch 14\n",
      "Image batch shape: torch.Size([32, 3, 224, 224])\n",
      "Labels: tensor([0, 0, 0, 0, 0, 0, 0, 0, 0, 0, 0, 0, 0, 0, 0, 0, 1, 0, 1, 0, 0, 0, 0, 0,\n",
      "        0, 0, 0, 0, 0, 0, 0, 0])\n",
      "Training Batch 15\n",
      "Image batch shape: torch.Size([32, 3, 224, 224])\n",
      "Labels: tensor([0, 1, 1, 0, 0, 0, 0, 0, 0, 0, 1, 0, 0, 0, 0, 0, 0, 0, 0, 0, 0, 0, 0, 0,\n",
      "        0, 0, 0, 0, 0, 0, 0, 0])\n",
      "Training Batch 16\n",
      "Image batch shape: torch.Size([32, 3, 224, 224])\n",
      "Labels: tensor([0, 0, 0, 0, 0, 0, 0, 0, 0, 0, 0, 1, 0, 0, 0, 1, 0, 0, 0, 0, 0, 0, 0, 0,\n",
      "        0, 0, 0, 0, 0, 0, 0, 0])\n",
      "Training Batch 17\n",
      "Image batch shape: torch.Size([32, 3, 224, 224])\n",
      "Labels: tensor([0, 0, 1, 0, 0, 0, 0, 0, 0, 0, 0, 0, 0, 0, 0, 0, 0, 1, 0, 0, 1, 0, 0, 0,\n",
      "        0, 0, 0, 0, 0, 0, 0, 0])\n",
      "Training Batch 18\n",
      "Image batch shape: torch.Size([32, 3, 224, 224])\n",
      "Labels: tensor([0, 0, 0, 0, 0, 0, 0, 0, 0, 0, 0, 0, 0, 0, 0, 0, 0, 0, 1, 0, 0, 0, 1, 0,\n",
      "        0, 0, 0, 0, 0, 0, 0, 0])\n",
      "Validation Batch 0\n",
      "Image batch shape: torch.Size([32, 3, 224, 224])\n",
      "Labels: tensor([0, 0, 0, 0, 0, 1, 0, 1, 0, 1, 0, 1, 0, 0, 0, 0, 0, 0, 0, 0, 1, 0, 0, 0,\n",
      "        0, 0, 0, 1, 0, 0, 0, 0])\n",
      "Validation Batch 1\n",
      "Image batch shape: torch.Size([32, 3, 224, 224])\n",
      "Labels: tensor([0, 0, 0, 1, 0, 0, 0, 0, 0, 0, 0, 0, 0, 0, 0, 0, 0, 0, 0, 0, 0, 0, 0, 0,\n",
      "        0, 0, 0, 0, 0, 0, 0, 0])\n",
      "Validation Batch 2\n",
      "Image batch shape: torch.Size([32, 3, 224, 224])\n",
      "Labels: tensor([0, 0, 0, 0, 0, 0, 0, 0, 0, 0, 0, 0, 0, 0, 0, 0, 1, 0, 0, 0, 0, 0, 0, 0,\n",
      "        0, 0, 0, 0, 1, 0, 0, 0])\n",
      "Validation Batch 3\n",
      "Image batch shape: torch.Size([32, 3, 224, 224])\n",
      "Labels: tensor([0, 0, 0, 0, 1, 0, 0, 0, 0, 0, 0, 0, 1, 0, 0, 0, 1, 0, 0, 0, 0, 0, 0, 0,\n",
      "        0, 0, 0, 0, 0, 0, 0, 0])\n",
      "Validation Batch 4\n",
      "Image batch shape: torch.Size([24, 3, 224, 224])\n",
      "Labels: tensor([0, 0, 0, 0, 0, 0, 0, 0, 0, 0, 0, 0, 0, 0, 1, 0, 0, 0, 0, 0, 0, 0, 0, 0])\n"
     ]
    }
   ],
   "source": [
    "import os\n",
    "import torch\n",
    "from torch.utils.data import Dataset, DataLoader\n",
    "from torchvision import transforms\n",
    "from PIL import Image\n",
    "\n",
    "import os\n",
    "import torch\n",
    "from torch.utils.data import Dataset, DataLoader, random_split\n",
    "from torchvision import transforms\n",
    "from PIL import Image\n",
    "\n",
    "class CustomImageDataset(Dataset):\n",
    "    def __init__(self, folder_path):\n",
    "        self.folder_path = folder_path\n",
    "        self.image_files = [f for f in os.listdir(folder_path) if f.lower().endswith(('.png'))]\n",
    "        \n",
    "        # Define the transformation pipeline\n",
    "        self.transform = transforms.Compose([\n",
    "            transforms.Resize((224, 224)),\n",
    "            transforms.ToTensor(),\n",
    "            transforms.Normalize(mean=[0.485, 0.456, 0.406], \n",
    "                                std=[0.229, 0.224, 0.225])\n",
    "        ])\n",
    "    def __len__(self):\n",
    "        return len(self.image_files)\n",
    "\n",
    "    def __getitem__(self, idx):\n",
    "        img_name = self.image_files[idx]\n",
    "        img_path = os.path.join(self.folder_path, img_name)\n",
    "        \n",
    "        # Load and transform image\n",
    "        image = Image.open(img_path).convert('RGB')\n",
    "        image = self.transform(image)\n",
    "        \n",
    "        # Determine label based on filename\n",
    "        label = 1 if img_name.upper().endswith('EVENT.PNG') else 0\n",
    "        \n",
    "        return image, label\n",
    "\n",
    "def get_dataloader(folder_path, batch_size=32, shuffle=True, val_split=0.2):\n",
    "    dataset = CustomImageDataset(folder_path)\n",
    "    \n",
    "    # Calculate split sizes\n",
    "    val_size = int(len(dataset) * val_split)\n",
    "    train_size = len(dataset) - val_size\n",
    "    \n",
    "    # Randomly split the dataset\n",
    "    train_dataset, val_dataset = random_split(dataset, [train_size, val_size])\n",
    "    \n",
    "    # Create dataloaders\n",
    "    train_loader = DataLoader(train_dataset, batch_size=batch_size, shuffle=shuffle)\n",
    "    val_loader = DataLoader(val_dataset, batch_size=batch_size, shuffle=False)\n",
    "    \n",
    "    return train_loader, val_loader\n",
    "\n",
    "# Example usage\n",
    "if __name__ == \"__main__\":\n",
    "    # Replace with your actual folder path\n",
    "    folder_path = \"lunar_augment/\"\n",
    "    \n",
    "    # Create dataloaders\n",
    "    train_loader, val_loader = get_dataloader(folder_path)\n",
    "    \n",
    "    # Example iteration over training and validation sets\n",
    "    for batch_idx, (images, labels) in enumerate(train_loader):\n",
    "        print(f\"Training Batch {batch_idx}\")\n",
    "        print(f\"Image batch shape: {images.shape}\")\n",
    "        print(f\"Labels: {labels}\")\n",
    "    \n",
    "    for batch_idx, (images, labels) in enumerate(val_loader):\n",
    "        print(f\"Validation Batch {batch_idx}\")\n",
    "        print(f\"Image batch shape: {images.shape}\")\n",
    "        print(f\"Labels: {labels}\")\n"
   ]
  },
  {
   "cell_type": "code",
   "execution_count": 25,
   "id": "00eb2977",
   "metadata": {
    "scrolled": false
   },
   "outputs": [
    {
     "name": "stderr",
     "output_type": "stream",
     "text": [
      "C:\\Users\\Alp\\AppData\\Local\\Temp\\ipykernel_32204\\763359123.py:118: FutureWarning: You are using `torch.load` with `weights_only=False` (the current default value), which uses the default pickle module implicitly. It is possible to construct malicious pickle data which will execute arbitrary code during unpickling (See https://github.com/pytorch/pytorch/blob/main/SECURITY.md#untrusted-models for more details). In a future release, the default value for `weights_only` will be flipped to `True`. This limits the functions that could be executed during unpickling. Arbitrary objects will no longer be allowed to be loaded via this mode unless they are explicitly allowlisted by the user via `torch.serialization.add_safe_globals`. We recommend you start setting `weights_only=True` for any use case where you don't have full control of the loaded file. Please open an issue on GitHub for any issues related to this experimental feature.\n",
      "  model.load_state_dict(torch.load(model_path))\n"
     ]
    },
    {
     "name": "stdout",
     "output_type": "stream",
     "text": [
      "Using device: cpu\n",
      "Loaded previous model from best_model.pth\n",
      "\n",
      "Evaluating current model on training and validation sets:\n"
     ]
    },
    {
     "name": "stderr",
     "output_type": "stream",
     "text": [
      "Evaluating: 100%|██████████████████████████████████████████████████████████████████████| 19/19 [00:07<00:00,  2.63it/s]\n",
      "Evaluating: 100%|████████████████████████████████████████████████████████████████████████| 5/5 [00:01<00:00,  2.78it/s]\n"
     ]
    },
    {
     "name": "stdout",
     "output_type": "stream",
     "text": [
      "Initial Training Loss: 0.4476, Training Accuracy: 90.62%\n",
      "Initial Validation Loss: 0.4239, Validation Accuracy: 91.45%\n",
      "\n",
      "Do you want to continue training on the new dataset? (yes/no): yes\n",
      "\n",
      "Continuing training on new dataset...\n"
     ]
    },
    {
     "name": "stderr",
     "output_type": "stream",
     "text": [
      "Epoch 1/10: 100%|████████████████████████████████████████████████| 19/19 [00:15<00:00,  1.26it/s, loss=0.428, acc=85.7]\n",
      "Evaluating: 100%|████████████████████████████████████████████████████████████████████████| 5/5 [00:01<00:00,  2.83it/s]\n"
     ]
    },
    {
     "name": "stdout",
     "output_type": "stream",
     "text": [
      "\n",
      "Epoch 1 - Train Loss: 0.4285, Train Accuracy: 85.69%\n",
      "Validation Loss: 0.3386, Validation Accuracy: 92.11%\n"
     ]
    },
    {
     "name": "stderr",
     "output_type": "stream",
     "text": [
      "Epoch 2/10: 100%|████████████████████████████████████████████████| 19/19 [00:15<00:00,  1.23it/s, loss=0.285, acc=91.3]\n",
      "Evaluating: 100%|████████████████████████████████████████████████████████████████████████| 5/5 [00:01<00:00,  2.79it/s]\n"
     ]
    },
    {
     "name": "stdout",
     "output_type": "stream",
     "text": [
      "\n",
      "Epoch 2 - Train Loss: 0.2854, Train Accuracy: 91.28%\n",
      "Validation Loss: 0.2484, Validation Accuracy: 92.76%\n"
     ]
    },
    {
     "name": "stderr",
     "output_type": "stream",
     "text": [
      "Epoch 3/10: 100%|████████████████████████████████████████████████| 19/19 [00:15<00:00,  1.20it/s, loss=0.262, acc=92.9]\n",
      "Evaluating: 100%|████████████████████████████████████████████████████████████████████████| 5/5 [00:01<00:00,  2.67it/s]\n"
     ]
    },
    {
     "name": "stdout",
     "output_type": "stream",
     "text": [
      "\n",
      "Epoch 3 - Train Loss: 0.2623, Train Accuracy: 92.93%\n",
      "Validation Loss: 0.2321, Validation Accuracy: 92.11%\n"
     ]
    },
    {
     "name": "stderr",
     "output_type": "stream",
     "text": [
      "Epoch 4/10: 100%|████████████████████████████████████████████████| 19/19 [00:15<00:00,  1.24it/s, loss=0.244, acc=92.9]\n",
      "Evaluating: 100%|████████████████████████████████████████████████████████████████████████| 5/5 [00:01<00:00,  2.74it/s]\n"
     ]
    },
    {
     "name": "stdout",
     "output_type": "stream",
     "text": [
      "\n",
      "Epoch 4 - Train Loss: 0.2436, Train Accuracy: 92.93%\n",
      "Validation Loss: 0.2349, Validation Accuracy: 94.08%\n"
     ]
    },
    {
     "name": "stderr",
     "output_type": "stream",
     "text": [
      "Epoch 5/10: 100%|████████████████████████████████████████████████| 19/19 [00:15<00:00,  1.21it/s, loss=0.233, acc=93.6]\n",
      "Evaluating: 100%|████████████████████████████████████████████████████████████████████████| 5/5 [00:01<00:00,  2.71it/s]\n"
     ]
    },
    {
     "name": "stdout",
     "output_type": "stream",
     "text": [
      "\n",
      "Epoch 5 - Train Loss: 0.2329, Train Accuracy: 93.59%\n",
      "Validation Loss: 0.2851, Validation Accuracy: 91.45%\n"
     ]
    },
    {
     "name": "stderr",
     "output_type": "stream",
     "text": [
      "Epoch 6/10: 100%|████████████████████████████████████████████████| 19/19 [00:15<00:00,  1.19it/s, loss=0.233, acc=92.3]\n",
      "Evaluating: 100%|████████████████████████████████████████████████████████████████████████| 5/5 [00:01<00:00,  2.76it/s]\n"
     ]
    },
    {
     "name": "stdout",
     "output_type": "stream",
     "text": [
      "\n",
      "Epoch 6 - Train Loss: 0.2331, Train Accuracy: 92.27%\n",
      "Validation Loss: 0.2392, Validation Accuracy: 93.42%\n"
     ]
    },
    {
     "name": "stderr",
     "output_type": "stream",
     "text": [
      "Epoch 7/10: 100%|█████████████████████████████████████████████████| 19/19 [00:16<00:00,  1.17it/s, loss=0.21, acc=93.3]\n",
      "Evaluating: 100%|████████████████████████████████████████████████████████████████████████| 5/5 [00:01<00:00,  2.78it/s]\n"
     ]
    },
    {
     "name": "stdout",
     "output_type": "stream",
     "text": [
      "\n",
      "Epoch 7 - Train Loss: 0.2103, Train Accuracy: 93.26%\n",
      "Validation Loss: 0.2502, Validation Accuracy: 91.45%\n"
     ]
    },
    {
     "name": "stderr",
     "output_type": "stream",
     "text": [
      "Epoch 8/10: 100%|████████████████████████████████████████████████| 19/19 [00:16<00:00,  1.18it/s, loss=0.215, acc=93.6]\n",
      "Evaluating: 100%|████████████████████████████████████████████████████████████████████████| 5/5 [00:01<00:00,  2.62it/s]\n"
     ]
    },
    {
     "name": "stdout",
     "output_type": "stream",
     "text": [
      "\n",
      "Epoch 8 - Train Loss: 0.2146, Train Accuracy: 93.59%\n",
      "Validation Loss: 0.2354, Validation Accuracy: 92.11%\n"
     ]
    },
    {
     "name": "stderr",
     "output_type": "stream",
     "text": [
      "Epoch 9/10: 100%|████████████████████████████████████████████████| 19/19 [00:16<00:00,  1.16it/s, loss=0.198, acc=93.8]\n",
      "Evaluating: 100%|████████████████████████████████████████████████████████████████████████| 5/5 [00:01<00:00,  2.77it/s]\n"
     ]
    },
    {
     "name": "stdout",
     "output_type": "stream",
     "text": [
      "\n",
      "Epoch 9 - Train Loss: 0.1975, Train Accuracy: 93.75%\n",
      "Validation Loss: 0.2754, Validation Accuracy: 91.45%\n"
     ]
    },
    {
     "name": "stderr",
     "output_type": "stream",
     "text": [
      "Epoch 10/10: 100%|███████████████████████████████████████████████| 19/19 [00:15<00:00,  1.20it/s, loss=0.197, acc=94.6]\n",
      "Evaluating: 100%|████████████████████████████████████████████████████████████████████████| 5/5 [00:01<00:00,  2.76it/s]\n"
     ]
    },
    {
     "name": "stdout",
     "output_type": "stream",
     "text": [
      "\n",
      "Epoch 10 - Train Loss: 0.1975, Train Accuracy: 94.57%\n",
      "Validation Loss: 0.2341, Validation Accuracy: 93.42%\n"
     ]
    },
    {
     "data": {
      "image/png": "[encoded data removed]",
      "text/plain": [
       "<Figure size 1000x500 with 2 Axes>"
      ]
     },
     "metadata": {},
     "output_type": "display_data"
    },
    {
     "name": "stdout",
     "output_type": "stream",
     "text": [
      "\n",
      "Final evaluation after continued training:\n"
     ]
    },
    {
     "name": "stderr",
     "output_type": "stream",
     "text": [
      "Evaluating: 100%|██████████████████████████████████████████████████████████████████████| 19/19 [00:07<00:00,  2.43it/s]\n",
      "Evaluating: 100%|████████████████████████████████████████████████████████████████████████| 5/5 [00:01<00:00,  2.71it/s]"
     ]
    },
    {
     "name": "stdout",
     "output_type": "stream",
     "text": [
      "Final Training Loss: 0.1948, Training Accuracy: 93.91%\n",
      "Final Validation Loss: 0.2341, Validation Accuracy: 93.42%\n"
     ]
    },
    {
     "name": "stderr",
     "output_type": "stream",
     "text": [
      "\n"
     ]
    },
    {
     "data": {
      "image/png": "[encoded data removed]",
      "text/plain": [
       "<Figure size 800x600 with 2 Axes>"
      ]
     },
     "metadata": {},
     "output_type": "display_data"
    },
    {
     "name": "stdout",
     "output_type": "stream",
     "text": [
      "\n",
      "Classification Report:\n",
      "              precision    recall  f1-score   support\n",
      "\n",
      "   Non-event       0.93      1.00      0.97       139\n",
      "       Event       1.00      0.23      0.38        13\n",
      "\n",
      "    accuracy                           0.93       152\n",
      "   macro avg       0.97      0.62      0.67       152\n",
      "weighted avg       0.94      0.93      0.91       152\n",
      "\n"
     ]
    }
   ],
   "source": [
    "import os\n",
    "import torch\n",
    "import torch.nn as nn\n",
    "from torch.utils.data import DataLoader\n",
    "from torchvision import transforms\n",
    "from PIL import Image\n",
    "from tqdm import tqdm\n",
    "import matplotlib.pyplot as plt\n",
    "from sklearn.metrics import confusion_matrix, classification_report\n",
    "import seaborn as sns\n",
    "\n",
    "def evaluate_model(model, loader, device, criterion):\n",
    "    model.eval()\n",
    "    test_loss = 0\n",
    "    correct = 0\n",
    "    total = 0\n",
    "    all_preds = []\n",
    "    all_labels = []\n",
    "    \n",
    "    with torch.no_grad():\n",
    "        for images, labels in tqdm(loader, desc=\"Evaluating\"):\n",
    "            images, labels = images.to(device), labels.to(device)\n",
    "            outputs = model(images)\n",
    "            loss = criterion(outputs, labels)\n",
    "            \n",
    "            test_loss += loss.item()\n",
    "            _, predicted = outputs.max(1)\n",
    "            total += labels.size(0)\n",
    "            correct += predicted.eq(labels).sum().item()\n",
    "            \n",
    "            all_preds.extend(predicted.cpu().numpy())\n",
    "            all_labels.extend(labels.cpu().numpy())\n",
    "    \n",
    "    accuracy = 100. * correct / total\n",
    "    avg_loss = test_loss / len(loader)\n",
    "    \n",
    "    return accuracy, avg_loss, all_preds, all_labels\n",
    "\n",
    "def plot_confusion_matrix(all_labels, all_preds):\n",
    "    cm = confusion_matrix(all_labels, all_preds)\n",
    "    plt.figure(figsize=(8, 6))\n",
    "    sns.heatmap(cm, annot=True, fmt='d', cmap='Blues')\n",
    "    plt.title('Confusion Matrix')\n",
    "    plt.ylabel('True Label')\n",
    "    plt.xlabel('Predicted Label')\n",
    "    plt.show()\n",
    "    \n",
    "    print(\"\\nClassification Report:\")\n",
    "    print(classification_report(all_labels, all_preds, target_names=['Non-event', 'Event']))\n",
    "\n",
    "def continue_training(model, train_loader, val_loader, criterion, optimizer, device, \n",
    "                      num_epochs=10, save_path='model_checkpoints'):\n",
    "    os.makedirs(save_path, exist_ok=True)\n",
    "    history = {'train_loss': [], 'train_acc': [], 'val_loss': [], 'val_acc': []}\n",
    "    \n",
    "    for epoch in range(num_epochs):\n",
    "        model.train()\n",
    "        running_loss = 0.0\n",
    "        correct = 0\n",
    "        total = 0\n",
    "        \n",
    "        train_bar = tqdm(train_loader, desc=f\"Epoch {epoch+1}/{num_epochs}\")\n",
    "        for batch_idx, (images, labels) in enumerate(train_bar):\n",
    "            images, labels = images.to(device), labels.to(device)\n",
    "            \n",
    "            optimizer.zero_grad()\n",
    "            outputs = model(images)\n",
    "            loss = criterion(outputs, labels)\n",
    "            loss.backward()\n",
    "            optimizer.step()\n",
    "            \n",
    "            running_loss += loss.item()\n",
    "            _, predicted = outputs.max(1)\n",
    "            total += labels.size(0)\n",
    "            correct += predicted.eq(labels).sum().item()\n",
    "            \n",
    "            train_bar.set_postfix({\n",
    "                'loss': running_loss/(batch_idx+1), \n",
    "                'acc': 100.*correct/total\n",
    "            })\n",
    "        \n",
    "        epoch_loss = running_loss / len(train_loader)\n",
    "        epoch_acc = 100. * correct / total\n",
    "        \n",
    "        # Validation evaluation\n",
    "        val_acc, val_loss, _, _ = evaluate_model(model, val_loader, device, criterion)\n",
    "        \n",
    "        history['train_loss'].append(epoch_loss)\n",
    "        history['train_acc'].append(epoch_acc)\n",
    "        history['val_loss'].append(val_loss)\n",
    "        history['val_acc'].append(val_acc)\n",
    "        \n",
    "        print(f\"\\nEpoch {epoch+1} - Train Loss: {epoch_loss:.4f}, Train Accuracy: {epoch_acc:.2f}%\")\n",
    "        print(f\"Validation Loss: {val_loss:.4f}, Validation Accuracy: {val_acc:.2f}%\")\n",
    "        \n",
    "        # Save checkpoint\n",
    "        checkpoint = {\n",
    "            'epoch': epoch,\n",
    "            'model_state_dict': model.state_dict(),\n",
    "            'optimizer_state_dict': optimizer.state_dict(),\n",
    "            'loss': epoch_loss,\n",
    "        }\n",
    "        torch.save(checkpoint, f'{save_path}/model_epoch_{epoch+1}.pth')\n",
    "        \n",
    "    return model, history\n",
    "\n",
    "def main():\n",
    "    # Device configuration\n",
    "    device = torch.device('cuda' if torch.cuda.is_available() else 'cpu')\n",
    "    print(f\"Using device: {device}\")\n",
    "    \n",
    "    # Load the previous model\n",
    "    model = CustomCNN().to(device)\n",
    "    \n",
    "    # Load the saved model state if it exists\n",
    "    model_path = 'best_model.pth'  # adjust path as needed\n",
    "    if os.path.exists(model_path):\n",
    "        model.load_state_dict(torch.load(model_path))\n",
    "        print(f\"Loaded previous model from {model_path}\")\n",
    "    else:\n",
    "        print(\"No previous model found, starting with a new model\")\n",
    "    \n",
    "    # New dataset path\n",
    "    new_dataset_path = \"lunar_augment/\"  # adjust as needed\n",
    "    \n",
    "    # Create dataloaders with validation split\n",
    "    batch_size = 32\n",
    "    train_loader, val_loader = get_dataloader(new_dataset_path, batch_size=batch_size)\n",
    "    \n",
    "    # Define loss function and optimizer\n",
    "    criterion = nn.CrossEntropyLoss()\n",
    "    optimizer = torch.optim.Adam(model.parameters(), lr=0.001)\n",
    "    \n",
    "    # First, evaluate the current model on the new dataset (training and validation)\n",
    "    print(\"\\nEvaluating current model on training and validation sets:\")\n",
    "    train_acc, train_loss, _, _ = evaluate_model(model, train_loader, device, criterion)\n",
    "    val_acc, val_loss, _, _ = evaluate_model(model, val_loader, device, criterion)\n",
    "    print(f\"Initial Training Loss: {train_loss:.4f}, Training Accuracy: {train_acc:.2f}%\")\n",
    "    print(f\"Initial Validation Loss: {val_loss:.4f}, Validation Accuracy: {val_acc:.2f}%\")\n",
    "    \n",
    "    # Ask user if they want to continue training\n",
    "    user_input = input(\"\\nDo you want to continue training on the new dataset? (yes/no): \")\n",
    "    torch.save(model.state_dict(), 'lunar_tuned.pth')\n",
    "    \n",
    "    if user_input.lower() == 'yes':\n",
    "        # Continue training\n",
    "        print(\"\\nContinuing training on new dataset...\")\n",
    "        num_epochs = 10  # adjust as needed\n",
    "        model, history = continue_training(model, train_loader, val_loader, criterion, optimizer, device, num_epochs)\n",
    "        \n",
    "        # Plot training history\n",
    "        plt.figure(figsize=(10, 5))\n",
    "        plt.subplot(1, 2, 1)\n",
    "        plt.plot(history['train_loss'], label='Train Loss')\n",
    "        plt.plot(history['val_loss'], label='Validation Loss')\n",
    "        plt.title('Model Loss')\n",
    "        plt.xlabel('Epoch')\n",
    "        plt.ylabel('Loss')\n",
    "        plt.legend()\n",
    "        \n",
    "        plt.subplot(1, 2, 2)\n",
    "        plt.plot(history['train_acc'], label='Train Accuracy')\n",
    "        plt.plot(history['val_acc'], label='Validation Accuracy')\n",
    "        plt.title('Model Accuracy')\n",
    "        plt.xlabel('Epoch')\n",
    "        plt.ylabel('Accuracy')\n",
    "        plt.legend()\n",
    "        \n",
    "        plt.tight_layout()\n",
    "        plt.show()\n",
    "        \n",
    "        # Final evaluation\n",
    "        print(\"\\nFinal evaluation after continued training:\")\n",
    "        train_acc, train_loss, _, _ = evaluate_model(model, train_loader, device, criterion)\n",
    "        val_acc, val_loss, all_preds, all_labels = evaluate_model(model, val_loader, device, criterion)\n",
    "        print(f\"Final Training Loss: {train_loss:.4f}, Training Accuracy: {train_acc:.2f}%\")\n",
    "        print(f\"Final Validation Loss: {val_loss:.4f}, Validation Accuracy: {val_acc:.2f}%\")\n",
    "        plot_confusion_matrix(all_labels, all_preds)\n",
    "\n",
    "if __name__ == \"__main__\":\n",
    "    main()\n"
   ]
  },
  {
   "cell_type": "code",
   "execution_count": 19,
   "id": "540cb9d6",
   "metadata": {},
   "outputs": [
    {
     "name": "stdout",
     "output_type": "stream",
     "text": [
      "Using device: cpu\n",
      "\n",
      "Results (sorted by confidence):\n",
      "--------------------------------------------------\n",
      "1. Crop 5\n",
      "   Score: 0.0020\n",
      "   Path: data/S12_GradeBspecCrop/xa.s12.00.mhz.1970-02-18HR00_evid00016_colored_spectrogram_crop_5.png\n",
      "--------------------------------------------------\n",
      "2. Crop 8\n",
      "   Score: 0.0019\n",
      "   Path: data/S12_GradeBspecCrop/xa.s12.00.mhz.1970-02-18HR00_evid00016_colored_spectrogram_crop_8.png\n",
      "--------------------------------------------------\n",
      "3. Crop 2\n",
      "   Score: 0.0019\n",
      "   Path: data/S12_GradeBspecCrop/xa.s12.00.mhz.1970-02-18HR00_evid00016_colored_spectrogram_crop_2.png\n",
      "--------------------------------------------------\n",
      "4. Crop 3\n",
      "   Score: 0.0018\n",
      "   Path: data/S12_GradeBspecCrop/xa.s12.00.mhz.1970-02-18HR00_evid00016_colored_spectrogram_crop_3.png\n",
      "--------------------------------------------------\n",
      "5. Crop 4\n",
      "   Score: 0.0016\n",
      "   Path: data/S12_GradeBspecCrop/xa.s12.00.mhz.1970-02-18HR00_evid00016_colored_spectrogram_crop_4.png\n",
      "--------------------------------------------------\n",
      "6. Crop 1\n",
      "   Score: 0.0016\n",
      "   Path: data/S12_GradeBspecCrop/xa.s12.00.mhz.1970-02-18HR00_evid00016_colored_spectrogram_crop_1.png\n",
      "--------------------------------------------------\n",
      "7. Crop 9\n",
      "   Score: 0.0010\n",
      "   Path: data/S12_GradeBspecCrop/xa.s12.00.mhz.1970-02-18HR00_evid00016_colored_spectrogram_crop_9.png\n",
      "--------------------------------------------------\n",
      "8. Crop 10\n",
      "   Score: 0.0009\n",
      "   Path: data/S12_GradeBspecCrop/xa.s12.00.mhz.1970-02-18HR00_evid00016_colored_spectrogram_crop_10.png\n",
      "--------------------------------------------------\n",
      "9. Crop 7\n",
      "   Score: 0.0007\n",
      "   Path: data/S12_GradeBspecCrop/xa.s12.00.mhz.1970-02-18HR00_evid00016_colored_spectrogram_crop_7.png\n",
      "--------------------------------------------------\n",
      "10. Crop 6\n",
      "   Score: 0.0000\n",
      "   Path: data/S12_GradeBspecCrop/xa.s12.00.mhz.1970-02-18HR00_evid00016_colored_spectrogram_crop_6.png\n",
      "--------------------------------------------------\n",
      "\n",
      "Highest scoring crop:\n",
      "Crop number: 5\n",
      "Score: 0.0020\n",
      "Path: data/S12_GradeBspecCrop/xa.s12.00.mhz.1970-02-18HR00_evid00016_colored_spectrogram_crop_5.png\n"
     ]
    },
    {
     "name": "stderr",
     "output_type": "stream",
     "text": [
      "C:\\Users\\Alp\\AppData\\Local\\Temp\\ipykernel_32204\\1410907184.py:19: FutureWarning: You are using `torch.load` with `weights_only=False` (the current default value), which uses the default pickle module implicitly. It is possible to construct malicious pickle data which will execute arbitrary code during unpickling (See https://github.com/pytorch/pytorch/blob/main/SECURITY.md#untrusted-models for more details). In a future release, the default value for `weights_only` will be flipped to `True`. This limits the functions that could be executed during unpickling. Arbitrary objects will no longer be allowed to be loaded via this mode unless they are explicitly allowlisted by the user via `torch.serialization.add_safe_globals`. We recommend you start setting `weights_only=True` for any use case where you don't have full control of the loaded file. Please open an issue on GitHub for any issues related to this experimental feature.\n",
      "  self.model.load_state_dict(torch.load(model_path, map_location=self.device))\n"
     ]
    }
   ],
   "source": [
    "import torch\n",
    "import torch.nn as nn\n",
    "from torchvision import transforms\n",
    "from PIL import Image\n",
    "import os\n",
    "from tqdm import tqdm\n",
    "\n",
    "class ImageInference:\n",
    "    def __init__(self, model_path, device=None):\n",
    "        if device is None:\n",
    "            self.device = torch.device(\"cuda\" if torch.cuda.is_available() else \"cpu\")\n",
    "        else:\n",
    "            self.device = device\n",
    "            \n",
    "        print(f\"Using device: {self.device}\")\n",
    "            \n",
    "        # Load model\n",
    "        self.model = CustomCNN().to(self.device)\n",
    "        self.model.load_state_dict(torch.load(model_path, map_location=self.device))\n",
    "        self.model.eval()\n",
    "        \n",
    "        # Define transforms\n",
    "        self.transform = transforms.Compose([\n",
    "            transforms.Resize((224, 224)),\n",
    "            transforms.ToTensor(),\n",
    "            transforms.Normalize(mean=[0.485, 0.456, 0.406], \n",
    "                                std=[0.229, 0.224, 0.225])\n",
    "        ])\n",
    "\n",
    "    def process_images(self, folder_path, base_filename):\n",
    "        results = []\n",
    "        \n",
    "        # Process images 1 through 10\n",
    "        for i in range(1, 11):\n",
    "            img_path = os.path.join(folder_path, f\"{base_filename}_crop_{i}.png\")\n",
    "            \n",
    "            try:\n",
    "                # Check if file exists\n",
    "                if not os.path.exists(img_path):\n",
    "                    print(f\"Warning: File not found: {img_path}\")\n",
    "                    continue\n",
    "                \n",
    "                # Load and preprocess image\n",
    "                image = Image.open(img_path).convert('RGB')\n",
    "                image_tensor = self.transform(image).unsqueeze(0).to(self.device)\n",
    "                \n",
    "                # Get prediction\n",
    "                with torch.no_grad():\n",
    "                    output = self.model(image_tensor)\n",
    "                    probabilities = torch.nn.functional.softmax(output, dim=1)\n",
    "                    event_probability = probabilities[0][1].item()  # Probability for event class\n",
    "                \n",
    "                results.append({\n",
    "                    'path': img_path,\n",
    "                    'crop_number': i,\n",
    "                    'score': event_probability\n",
    "                })\n",
    "                \n",
    "            except Exception as e:\n",
    "                print(f\"Error processing {img_path}: {str(e)}\")\n",
    "        \n",
    "        # Sort results by score\n",
    "        results.sort(key=lambda x: x['score'], reverse=True)\n",
    "        return results\n",
    "\n",
    "def main():\n",
    "    # Configuration\n",
    "    model_path = 'lunar_tuned.pth'  # Adjust to your model path\n",
    "    folder_path = 'data/S12_GradeBspecCrop/'  # Adjust to your folder path\n",
    "    base_filename = 'xa.s12.00.mhz.1970-02-18HR00_evid00016_colored_spectrogram'  # Adjust to your base filename without _crop_X.png\n",
    "    \n",
    "    # Initialize inference\n",
    "    inferencer = ImageInference(model_path)\n",
    "    \n",
    "    # Process images\n",
    "    results = inferencer.process_images(folder_path, base_filename)\n",
    "    \n",
    "    # Print results\n",
    "    print(\"\\nResults (sorted by confidence):\")\n",
    "    print(\"-\" * 50)\n",
    "    for i, result in enumerate(results, 1):\n",
    "        print(f\"{i}. Crop {result['crop_number']}\")\n",
    "        print(f\"   Score: {result['score']:.4f}\")\n",
    "        print(f\"   Path: {result['path']}\")\n",
    "        print(\"-\" * 50)\n",
    "    \n",
    "    # Print highest scoring image\n",
    "    if results:\n",
    "        highest = results[0]\n",
    "        print(f\"\\nHighest scoring crop:\")\n",
    "        print(f\"Crop number: {highest['crop_number']}\")\n",
    "        print(f\"Score: {highest['score']:.4f}\")\n",
    "        print(f\"Path: {highest['path']}\")\n",
    "    else:\n",
    "        print(\"\\nNo valid images were processed.\")\n",
    "\n",
    "# Example usage\n",
    "if __name__ == \"__main__\":\n",
    "    main()"
   ]
  },
  {
   "cell_type": "code",
   "execution_count": null,
   "id": "50341e7d",
   "metadata": {},
   "outputs": [],
   "source": []
  }
 ],
 "metadata": {
  "kernelspec": {
   "display_name": "Python 3 (ipykernel)",
   "language": "python",
   "name": "python3"
  },
  "language_info": {
   "codemirror_mode": {
    "name": "ipython",
    "version": 3
   },
   "file_extension": ".py",
   "mimetype": "text/x-python",
   "name": "python",
   "nbconvert_exporter": "python",
   "pygments_lexer": "ipython3",
   "version": "3.11.5"
  }
 },
 "nbformat": 4,
 "nbformat_minor": 5
}
